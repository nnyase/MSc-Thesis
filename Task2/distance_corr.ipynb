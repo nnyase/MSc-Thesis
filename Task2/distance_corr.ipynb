{
 "cells": [
  {
   "cell_type": "code",
   "execution_count": 18,
   "metadata": {},
   "outputs": [],
   "source": [
    "import sys\n",
    "import os\n",
    "import warnings\n",
    "warnings.filterwarnings(\"ignore\")\n",
    "\n",
    "home_dir = \"../\"\n",
    "src_path = os.path.join(home_dir, \"src\")\n",
    "\n",
    "# Add the `src` folder to the Python path\n",
    "sys.path.append(src_path)\n",
    "\n",
    "from functions import (compute_distance_correlation_matrix,\n",
    " compute_simplicial_complex_and_landscapes, compute_wto_matrix, compute_pearson_correlation_matrix,\n",
    "  patient_correlation_measure)\n",
    "\n",
    "import pandas as pd\n",
    "import numpy as np\n",
    "import matplotlib.pyplot as plt\n",
    "from sklearn.model_selection import train_test_split\n",
    "import time"
   ]
  },
  {
   "cell_type": "code",
   "execution_count": 19,
   "metadata": {},
   "outputs": [],
   "source": [
    "# Load data from cancer stages\n",
    "expression_matrix = pd.read_csv(\"../data/cancer_stage/fpkm_matrix.csv\", index_col=0)\n",
    "significant_genes = pd.read_csv(\"../data/cancer_stage/significant_genes.csv\", index_col=0)\n",
    "\n",
    "# Separate phenotype labels\n",
    "phenotype = expression_matrix[\"phenotype\"]\n",
    "expression_matrix = expression_matrix.drop(columns=[\"phenotype\"])\n",
    "\n",
    "# Select significant genes\n",
    "significant_gene_names = significant_genes.index\n",
    "sig_exp_matrix = expression_matrix[significant_gene_names.intersection(expression_matrix.columns)]\n",
    "\n",
    "top_var_genes_data = sig_exp_matrix\n",
    "gene_dict = {i: col_name for i, col_name in enumerate(top_var_genes_data.columns)}\n",
    "top_var_genes_data[\"phenotype\"] = phenotype.values\n",
    "\n",
    "stage1_top_var_genes_data = top_var_genes_data[top_var_genes_data['phenotype'] == 'Stage1']\n",
    "stage2_top_var_genes_data = top_var_genes_data[top_var_genes_data['phenotype'] == 'Stage2']\n",
    "stage3_top_var_genes_data = top_var_genes_data[top_var_genes_data['phenotype'] == 'Stage3']\n",
    "stage4_top_var_genes_data = top_var_genes_data[top_var_genes_data['phenotype'] == 'Stage4']\n",
    "\n",
    "stage1_top_var_genes_data = stage1_top_var_genes_data.drop(columns=[\"phenotype\"])\n",
    "stage2_top_var_genes_data = stage2_top_var_genes_data.drop(columns=[\"phenotype\"])\n",
    "stage3_top_var_genes_data = stage3_top_var_genes_data.drop(columns=[\"phenotype\"])\n",
    "stage4_top_var_genes_data = stage4_top_var_genes_data.drop(columns=[\"phenotype\"])\n",
    "\n",
    "stage1_distance_corr_matrix = compute_distance_correlation_matrix(stage1_top_var_genes_data.values)\n",
    "stage2_distance_corr_matrix = compute_distance_correlation_matrix(stage2_top_var_genes_data.values)\n",
    "stage3_distance_corr_matrix = compute_distance_correlation_matrix(stage3_top_var_genes_data.values)\n",
    "stage4_distance_corr_matrix = compute_distance_correlation_matrix(stage4_top_var_genes_data.values)\n",
    "\n",
    "# Define number of landscapes and resolution\n",
    "num_landscape = 2\n",
    "resolution = 100\n",
    "\n",
    "# Split the data into training and testing sets for stage 1\n",
    "stage1_train, stage1_test = train_test_split(\n",
    "    stage1_top_var_genes_data, test_size=0.2, random_state=42\n",
    ")\n",
    "\n",
    "# Split the data into training and testing sets for stage 2\n",
    "stage2_train, stage2_test = train_test_split(\n",
    "    stage2_top_var_genes_data, test_size=0.2, random_state=42\n",
    ")\n",
    "\n",
    "# Split the data into training and testing sets for stage 3\n",
    "stage3_train, stage3_test = train_test_split(\n",
    "    stage3_top_var_genes_data, test_size=0.2, random_state=42\n",
    ")\n",
    "\n",
    "# Split the data into training and testing sets for stage 4\n",
    "stage4_train, stage4_test = train_test_split(\n",
    "    stage4_top_var_genes_data, test_size=0.2, random_state=42\n",
    ")"
   ]
  },
  {
   "cell_type": "code",
   "execution_count": 20,
   "metadata": {},
   "outputs": [
    {
     "name": "stdout",
     "output_type": "stream",
     "text": [
      "Computing the Simplicial Complex and persistence for patients\n"
     ]
    },
    {
     "name": "stderr",
     "output_type": "stream",
     "text": [
      "100%|██████████| 26/26 [00:00<00:00, 57.83it/s]\n"
     ]
    },
    {
     "name": "stdout",
     "output_type": "stream",
     "text": [
      "Empty list or empty diagrams: sample range is [-inf, -inf]\n",
      "First value and second value in range are the same: grid is made of resolution copies of this value\n",
      "Computing the Simplicial Complex and persistence for patients\n"
     ]
    },
    {
     "name": "stderr",
     "output_type": "stream",
     "text": [
      "100%|██████████| 7/7 [00:00<00:00, 58.40it/s]\n"
     ]
    },
    {
     "name": "stdout",
     "output_type": "stream",
     "text": [
      "Empty list or empty diagrams: sample range is [-inf, -inf]\n",
      "First value and second value in range are the same: grid is made of resolution copies of this value\n",
      "Computing the Simplicial Complex and persistence for patients\n"
     ]
    },
    {
     "name": "stderr",
     "output_type": "stream",
     "text": [
      "100%|██████████| 118/118 [00:02<00:00, 49.86it/s]\n"
     ]
    },
    {
     "name": "stdout",
     "output_type": "stream",
     "text": [
      "Empty list or empty diagrams: sample range is [-inf, -inf]\n",
      "First value and second value in range are the same: grid is made of resolution copies of this value\n",
      "Computing the Simplicial Complex and persistence for patients\n"
     ]
    },
    {
     "name": "stderr",
     "output_type": "stream",
     "text": [
      "100%|██████████| 30/30 [00:00<00:00, 50.08it/s]\n"
     ]
    },
    {
     "name": "stdout",
     "output_type": "stream",
     "text": [
      "Empty list or empty diagrams: sample range is [-inf, -inf]\n",
      "First value and second value in range are the same: grid is made of resolution copies of this value\n",
      "Computing the Simplicial Complex and persistence for patients\n"
     ]
    },
    {
     "name": "stderr",
     "output_type": "stream",
     "text": [
      "100%|██████████| 105/105 [00:02<00:00, 45.65it/s]\n"
     ]
    },
    {
     "name": "stdout",
     "output_type": "stream",
     "text": [
      "Empty list or empty diagrams: sample range is [-inf, -inf]\n",
      "First value and second value in range are the same: grid is made of resolution copies of this value\n",
      "Computing the Simplicial Complex and persistence for patients\n"
     ]
    },
    {
     "name": "stderr",
     "output_type": "stream",
     "text": [
      "100%|██████████| 27/27 [00:00<00:00, 42.24it/s]\n"
     ]
    },
    {
     "name": "stdout",
     "output_type": "stream",
     "text": [
      "Empty list or empty diagrams: sample range is [-inf, -inf]\n",
      "First value and second value in range are the same: grid is made of resolution copies of this value\n",
      "Computing the Simplicial Complex and persistence for patients\n"
     ]
    },
    {
     "name": "stderr",
     "output_type": "stream",
     "text": [
      "100%|██████████| 138/138 [00:03<00:00, 45.40it/s]\n"
     ]
    },
    {
     "name": "stdout",
     "output_type": "stream",
     "text": [
      "Empty list or empty diagrams: sample range is [-inf, -inf]\n",
      "First value and second value in range are the same: grid is made of resolution copies of this value\n",
      "Computing the Simplicial Complex and persistence for patients\n"
     ]
    },
    {
     "name": "stderr",
     "output_type": "stream",
     "text": [
      "100%|██████████| 35/35 [00:00<00:00, 46.65it/s]"
     ]
    },
    {
     "name": "stdout",
     "output_type": "stream",
     "text": [
      "Empty list or empty diagrams: sample range is [-inf, -inf]\n",
      "First value and second value in range are the same: grid is made of resolution copies of this value\n",
      "Training Landscapes shape: (387, 600)\n",
      "Training Labels shape: (387,)\n",
      "Testing Landscapes shape: (99, 600)\n",
      "Testing Labels shape: (99,)\n"
     ]
    },
    {
     "name": "stderr",
     "output_type": "stream",
     "text": [
      "\n"
     ]
    }
   ],
   "source": [
    "start_time = time.time()\n",
    "# Compute landscapes for training and testing sets for stage 1\n",
    "stage1_train_landscapes = compute_simplicial_complex_and_landscapes(\n",
    "    stage1_train.values, stage1_distance_corr_matrix, num_landscape, resolution\n",
    ")\n",
    "stage1_test_landscapes = compute_simplicial_complex_and_landscapes(\n",
    "    stage1_test.values, stage1_distance_corr_matrix, num_landscape, resolution\n",
    ")\n",
    "\n",
    "# Compute landscapes for training and testing sets for stage 2\n",
    "stage2_train_landscapes = compute_simplicial_complex_and_landscapes(\n",
    "    stage2_train.values, stage2_distance_corr_matrix, num_landscape, resolution\n",
    ")\n",
    "stage2_test_landscapes = compute_simplicial_complex_and_landscapes(\n",
    "    stage2_test.values, stage2_distance_corr_matrix, num_landscape, resolution\n",
    ")\n",
    "\n",
    "# Compute landscapes for training and testing sets for stage 3\n",
    "stage3_train_landscapes = compute_simplicial_complex_and_landscapes(\n",
    "    stage3_train.values, stage3_distance_corr_matrix, num_landscape, resolution\n",
    ")\n",
    "\n",
    "stage3_test_landscapes = compute_simplicial_complex_and_landscapes(\n",
    "    stage3_test.values, stage3_distance_corr_matrix, num_landscape, resolution\n",
    ")\n",
    "\n",
    "# Compute landscapes for training and testing sets for stage 4\n",
    "stage4_train_landscapes = compute_simplicial_complex_and_landscapes(\n",
    "    stage4_train.values, stage4_distance_corr_matrix, num_landscape, resolution\n",
    ")\n",
    "\n",
    "stage4_test_landscapes = compute_simplicial_complex_and_landscapes(\n",
    "    stage4_test.values, stage4_distance_corr_matrix, num_landscape, resolution\n",
    ")\n",
    "\n",
    "# Combine training landscapes\n",
    "train_landscapes = np.vstack([stage1_train_landscapes, stage2_train_landscapes, stage3_train_landscapes, stage4_train_landscapes])\n",
    "train_labels = np.concatenate([\n",
    "    np.full(stage1_train_landscapes.shape[0], 1),  # Label 1 for stage 1\n",
    "    np.full(stage2_train_landscapes.shape[0], 2),  # Label 2 for stage 2\n",
    "    np.full(stage3_train_landscapes.shape[0], 3),   # Label 3 for PCPG 3\n",
    "    np.full(stage4_train_landscapes.shape[0], 4)\n",
    "])\n",
    "\n",
    "# Combine testing landscapes\n",
    "test_landscapes = np.vstack([stage1_test_landscapes, stage2_test_landscapes, stage3_test_landscapes, stage4_test_landscapes])\n",
    "test_labels = np.concatenate([\n",
    "    np.full(stage1_test_landscapes.shape[0], 1),  # Label 1 for stage 1\n",
    "    np.full(stage2_test_landscapes.shape[0], 2),  # Label 2 for stage 2\n",
    "    np.full(stage3_test_landscapes.shape[0], 3),   # Label 3 for stage 3\n",
    "    np.full(stage4_test_landscapes.shape[0], 4)\n",
    "])\n",
    "\n",
    "# Check shapes\n",
    "print(\"Training Landscapes shape:\", train_landscapes.shape)\n",
    "print(\"Training Labels shape:\", train_labels.shape)\n",
    "print(\"Testing Landscapes shape:\", test_landscapes.shape)\n",
    "print(\"Testing Labels shape:\", test_labels.shape)\n",
    "end_time = time.time()"
   ]
  },
  {
   "cell_type": "code",
   "execution_count": 21,
   "metadata": {},
   "outputs": [
    {
     "name": "stdout",
     "output_type": "stream",
     "text": [
      "Best parameters: {'max_depth': None, 'min_samples_leaf': 1, 'min_samples_split': 5, 'n_estimators': 100, 'oob_score': True}\n",
      "Training Accuracy: 1.0000\n",
      "Test Accuracy: 0.6061\n",
      "Mean Squared Error (MSE): 1.1111\n",
      "Log Loss: 1.5198\n",
      "\n",
      "Classification Report:\n",
      "               precision    recall  f1-score   support\n",
      "\n",
      "           1       1.00      0.29      0.44         7\n",
      "           2       0.38      0.10      0.16        30\n",
      "           3       0.62      0.85      0.72        27\n",
      "           4       0.62      0.91      0.74        35\n",
      "\n",
      "    accuracy                           0.61        99\n",
      "   macro avg       0.65      0.54      0.51        99\n",
      "weighted avg       0.57      0.61      0.54        99\n",
      "\n",
      "\n",
      "Confusion Matrix:\n",
      " [[ 2  2  1  2]\n",
      " [ 0  3 12 15]\n",
      " [ 0  1 23  3]\n",
      " [ 0  2  1 32]]\n",
      "Elapsed time: 0.17 seconds\n",
      "OOB Score: 0.9302\n"
     ]
    }
   ],
   "source": [
    "\n",
    "from sklearn.ensemble import RandomForestClassifier\n",
    "from sklearn.metrics import accuracy_score, classification_report, confusion_matrix, mean_squared_error, log_loss\n",
    "from sklearn.model_selection import GridSearchCV\n",
    "\n",
    "\n",
    "# Define parameter grid for hyperparameter tuning\n",
    "param_grid = {\n",
    "    'n_estimators': [50, 100, 200],         # Number of trees in the forest\n",
    "    'max_depth': [None, 10, 20],            # Maximum depth of the tree\n",
    "    'min_samples_split': [2, 5, 10],        # Minimum samples to split an internal node\n",
    "    'min_samples_leaf': [1, 2, 4], \n",
    "    'oob_score': [True]         # Minimum samples at a leaf node\n",
    "}\n",
    "\n",
    "# Perform Grid Search with Cross-Validation for Hyperparameter Tuning\n",
    "grid_search = GridSearchCV(\n",
    "    RandomForestClassifier(random_state=42),\n",
    "    param_grid,\n",
    "    cv=5,\n",
    "    scoring='accuracy'\n",
    ")\n",
    "grid_search.fit(train_landscapes, train_labels)\n",
    "\n",
    "# Get the best model from Grid Search\n",
    "best_rf_model = grid_search.best_estimator_\n",
    "print(\"Best parameters:\", grid_search.best_params_)\n",
    "\n",
    "# Train the best model on training data\n",
    "best_rf_model.fit(train_landscapes, train_labels)\n",
    "\n",
    "# Evaluate the best model\n",
    "train_predictions = best_rf_model.predict(train_landscapes)\n",
    "test_predictions = best_rf_model.predict(test_landscapes)\n",
    "test_probabilities = best_rf_model.predict_proba(test_landscapes)\n",
    "\n",
    "train_accuracy = accuracy_score(train_labels, train_predictions)\n",
    "test_accuracy = accuracy_score(test_labels, test_predictions)\n",
    "classification_rep = classification_report(test_labels, test_predictions)\n",
    "conf_matrix = confusion_matrix(test_labels, test_predictions)\n",
    "\n",
    "# Calculate metrics\n",
    "mse = mean_squared_error(test_labels, np.argmax(test_probabilities, axis=1))\n",
    "logloss = log_loss(test_labels, test_probabilities)\n",
    "\n",
    "# Display results\n",
    "print(f\"Training Accuracy: {train_accuracy:.4f}\")\n",
    "print(f\"Test Accuracy: {test_accuracy:.4f}\")\n",
    "print(f\"Mean Squared Error (MSE): {mse:.4f}\")\n",
    "print(f\"Log Loss: {logloss:.4f}\")\n",
    "print(\"\\nClassification Report:\\n\", classification_rep)\n",
    "print(\"\\nConfusion Matrix:\\n\", conf_matrix)\n",
    "elapsed_time = (end_time - start_time) / 60\n",
    "print(f\"Elapsed time: {elapsed_time:.2f} seconds\")\n",
    "\n",
    "# Display OOB score\n",
    "if hasattr(best_rf_model, 'oob_score_') and best_rf_model.oob_score_:\n",
    "    print(f\"OOB Score: {best_rf_model.oob_score_:.4f}\")"
   ]
  },
  {
   "cell_type": "code",
   "execution_count": 9,
   "metadata": {},
   "outputs": [
    {
     "data": {
      "image/png": "[encoded data removed]",
      "text/plain": [
       "<Figure size 1000x600 with 1 Axes>"
      ]
     },
     "metadata": {},
     "output_type": "display_data"
    }
   ],
   "source": [
    "# Train the best model and evaluate\n",
    "mse_values = []\n",
    "n_estimators_range = list(range(1, best_rf_model.n_estimators))\n",
    "for n in n_estimators_range:\n",
    "    temp_model = RandomForestClassifier(\n",
    "        n_estimators=n,\n",
    "        max_depth=best_rf_model.max_depth,\n",
    "        min_samples_split=best_rf_model.min_samples_split,\n",
    "        min_samples_leaf=best_rf_model.min_samples_leaf,\n",
    "        oob_score=True,\n",
    "        random_state=42\n",
    "    )\n",
    "    temp_model.fit(train_landscapes, train_labels)\n",
    "    predictions = temp_model.predict(test_landscapes)\n",
    "    probabilities = temp_model.predict_proba(test_landscapes)\n",
    "    mse = mean_squared_error(test_labels, np.argmax(probabilities, axis=1))\n",
    "    mse_values.append(mse)\n",
    "\n",
    "# Plotting MSE vs Number of Estimators\n",
    "plt.figure(figsize=(10, 6))\n",
    "plt.plot(n_estimators_range, mse_values, marker='o')\n",
    "plt.title('MSE vs Number of Estimators', fontsize=14)\n",
    "plt.xlabel('Number of Estimators', fontsize=12)\n",
    "plt.ylabel('Mean Squared Error (MSE)', fontsize=12)\n",
    "plt.grid(True)\n",
    "plt.show()"
   ]
  }
 ],
 "metadata": {
  "kernelspec": {
   "display_name": "mscthesis",
   "language": "python",
   "name": "python3"
  },
  "language_info": {
   "codemirror_mode": {
    "name": "ipython",
    "version": 3
   },
   "file_extension": ".py",
   "mimetype": "text/x-python",
   "name": "python",
   "nbconvert_exporter": "python",
   "pygments_lexer": "ipython3",
   "version": "3.10.14"
  }
 },
 "nbformat": 4,
 "nbformat_minor": 2
}
