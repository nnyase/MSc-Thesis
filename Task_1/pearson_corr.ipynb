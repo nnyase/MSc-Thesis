{
 "cells": [
  {
   "cell_type": "code",
   "execution_count": 12,
   "metadata": {},
   "outputs": [],
   "source": [
    "import sys\n",
    "import os\n",
    "import warnings\n",
    "warnings.filterwarnings(\"ignore\")\n",
    "\n",
    "home_dir = \"../\"\n",
    "src_path = os.path.join(home_dir, \"src\")\n",
    "\n",
    "# Add the `src` folder to the Python path\n",
    "sys.path.append(src_path)\n",
    "\n",
    "from functions import (compute_distance_correlation_matrix,\n",
    " compute_simplicial_complex_and_landscapes, compute_wto_matrix, compute_pearson_correlation_matrix,\n",
    "  patient_correlation_measure)\n",
    "\n",
    "import pandas as pd\n",
    "import numpy as np\n",
    "import matplotlib.pyplot as plt\n",
    "from sklearn.model_selection import train_test_split"
   ]
  },
  {
   "cell_type": "code",
   "execution_count": 7,
   "metadata": {},
   "outputs": [
    {
     "name": "stderr",
     "output_type": "stream",
     "text": [
      "/var/folders/rx/mhdtgbjj27j50r7jsrfv3dl00000gn/T/ipykernel_53430/3982010750.py:15: SettingWithCopyWarning: \n",
      "A value is trying to be set on a copy of a slice from a DataFrame.\n",
      "Try using .loc[row_indexer,col_indexer] = value instead\n",
      "\n",
      "See the caveats in the documentation: https://pandas.pydata.org/pandas-docs/stable/user_guide/indexing.html#returning-a-view-versus-a-copy\n",
      "  top_var_genes_data[\"phenotype\"] = phenotype.values\n"
     ]
    }
   ],
   "source": [
    "# Load data\n",
    "expression_matrix = pd.read_csv(\"../data/cancer_type/fpkm_matrix.csv\", index_col=0)\n",
    "significant_genes = pd.read_csv(\"../data/cancer_type/significant_genes.csv\", index_col=0)\n",
    "\n",
    "# Separate phenotype labels\n",
    "phenotype = expression_matrix[\"phenotype\"]\n",
    "expression_matrix = expression_matrix.drop(columns=[\"phenotype\"])\n",
    "\n",
    "# Select significant genes\n",
    "significant_gene_names = significant_genes.index\n",
    "sig_exp_matrix = expression_matrix[significant_gene_names.intersection(expression_matrix.columns)]\n",
    "\n",
    "top_var_genes_data = sig_exp_matrix\n",
    "gene_dict = {i: col_name for i, col_name in enumerate(top_var_genes_data.columns)}\n",
    "top_var_genes_data[\"phenotype\"] = phenotype.values\n",
    "\n",
    "sarc_top_var_genes_data = top_var_genes_data[top_var_genes_data['phenotype'] == 'TCGA-SARC']\n",
    "esca_top_var_genes_data = top_var_genes_data[top_var_genes_data['phenotype'] == 'TCGA-ESCA']\n",
    "pcpg_top_var_genes_data = top_var_genes_data[top_var_genes_data['phenotype'] == 'TCGA-PCPG']\n",
    "\n",
    "sarc_top_var_genes_data = sarc_top_var_genes_data.drop(columns=[\"phenotype\"])\n",
    "esca_top_var_genes_data = esca_top_var_genes_data.drop(columns=[\"phenotype\"])\n",
    "pcpg_top_var_genes_data = pcpg_top_var_genes_data.drop(columns=[\"phenotype\"])\n",
    "\n",
    "\n",
    "SARC_pearson_corr_matrix = compute_pearson_correlation_matrix(sarc_top_var_genes_data.values)\n",
    "ESCA_pearson_corr_matrix = compute_pearson_correlation_matrix(esca_top_var_genes_data.values)\n",
    "PCPG_pearson_corr_matrix = compute_pearson_correlation_matrix(pcpg_top_var_genes_data.values)\n",
    "\n",
    "# Define number of landscapes and resolution\n",
    "num_landscape = 2\n",
    "resolution = 100\n",
    "\n",
    "# Split the data into training and testing sets for SARC\n",
    "sarc_train, sarc_test = train_test_split(\n",
    "    sarc_top_var_genes_data, test_size=0.2, random_state=42\n",
    ")\n",
    "\n",
    "# Split the data into training and testing sets for ESCA\n",
    "esca_train, esca_test = train_test_split(\n",
    "    esca_top_var_genes_data, test_size=0.2, random_state=42\n",
    ")\n",
    "\n",
    "# Split the data into training and testing sets for PCPG\n",
    "pcpg_train, pcpg_test = train_test_split(\n",
    "    pcpg_top_var_genes_data, test_size=0.2, random_state=42\n",
    ")"
   ]
  },
  {
   "cell_type": "code",
   "execution_count": 9,
   "metadata": {},
   "outputs": [
    {
     "name": "stdout",
     "output_type": "stream",
     "text": [
      "Computing the Simplicial Complex and persistence for patients\n"
     ]
    },
    {
     "name": "stderr",
     "output_type": "stream",
     "text": [
      "100%|██████████| 207/207 [04:55<00:00,  1.43s/it]\n",
      "/Users/ndivhuwonyase/anaconda3/envs/mscthesis/lib/python3.10/site-packages/gudhi/representations/vector_methods.py:208: RuntimeWarning: invalid value encountered in subtract\n",
      "  tent_functions = np.maximum(heights[None, :] - np.abs(x_values[:, None] - midpoints[None, :]), 0)\n"
     ]
    },
    {
     "name": "stdout",
     "output_type": "stream",
     "text": [
      "Empty list or empty diagrams: sample range is [-inf, -inf]\n",
      "First value and second value in range are the same: grid is made of resolution copies of this value\n",
      "Computing the Simplicial Complex and persistence for patients\n"
     ]
    },
    {
     "name": "stderr",
     "output_type": "stream",
     "text": [
      "100%|██████████| 52/52 [01:12<00:00,  1.40s/it]\n",
      "/Users/ndivhuwonyase/anaconda3/envs/mscthesis/lib/python3.10/site-packages/gudhi/representations/vector_methods.py:208: RuntimeWarning: invalid value encountered in subtract\n",
      "  tent_functions = np.maximum(heights[None, :] - np.abs(x_values[:, None] - midpoints[None, :]), 0)\n"
     ]
    },
    {
     "name": "stdout",
     "output_type": "stream",
     "text": [
      "Empty list or empty diagrams: sample range is [-inf, -inf]\n",
      "First value and second value in range are the same: grid is made of resolution copies of this value\n",
      "Computing the Simplicial Complex and persistence for patients\n"
     ]
    },
    {
     "name": "stderr",
     "output_type": "stream",
     "text": [
      "100%|██████████| 147/147 [01:06<00:00,  2.22it/s]\n",
      "/Users/ndivhuwonyase/anaconda3/envs/mscthesis/lib/python3.10/site-packages/gudhi/representations/vector_methods.py:208: RuntimeWarning: invalid value encountered in subtract\n",
      "  tent_functions = np.maximum(heights[None, :] - np.abs(x_values[:, None] - midpoints[None, :]), 0)\n"
     ]
    },
    {
     "name": "stdout",
     "output_type": "stream",
     "text": [
      "Empty list or empty diagrams: sample range is [-inf, -inf]\n",
      "First value and second value in range are the same: grid is made of resolution copies of this value\n",
      "Computing the Simplicial Complex and persistence for patients\n"
     ]
    },
    {
     "name": "stderr",
     "output_type": "stream",
     "text": [
      "100%|██████████| 37/37 [00:17<00:00,  2.06it/s]\n",
      "/Users/ndivhuwonyase/anaconda3/envs/mscthesis/lib/python3.10/site-packages/gudhi/representations/vector_methods.py:208: RuntimeWarning: invalid value encountered in subtract\n",
      "  tent_functions = np.maximum(heights[None, :] - np.abs(x_values[:, None] - midpoints[None, :]), 0)\n"
     ]
    },
    {
     "name": "stdout",
     "output_type": "stream",
     "text": [
      "Empty list or empty diagrams: sample range is [-inf, -inf]\n",
      "First value and second value in range are the same: grid is made of resolution copies of this value\n",
      "Computing the Simplicial Complex and persistence for patients\n"
     ]
    },
    {
     "name": "stderr",
     "output_type": "stream",
     "text": [
      "100%|██████████| 143/143 [05:32<00:00,  2.33s/it]\n",
      "/Users/ndivhuwonyase/anaconda3/envs/mscthesis/lib/python3.10/site-packages/gudhi/representations/vector_methods.py:208: RuntimeWarning: invalid value encountered in subtract\n",
      "  tent_functions = np.maximum(heights[None, :] - np.abs(x_values[:, None] - midpoints[None, :]), 0)\n"
     ]
    },
    {
     "name": "stdout",
     "output_type": "stream",
     "text": [
      "Empty list or empty diagrams: sample range is [-inf, -inf]\n",
      "First value and second value in range are the same: grid is made of resolution copies of this value\n",
      "Computing the Simplicial Complex and persistence for patients\n"
     ]
    },
    {
     "name": "stderr",
     "output_type": "stream",
     "text": [
      "100%|██████████| 36/36 [01:24<00:00,  2.35s/it]"
     ]
    },
    {
     "name": "stdout",
     "output_type": "stream",
     "text": [
      "Empty list or empty diagrams: sample range is [-inf, -inf]\n",
      "First value and second value in range are the same: grid is made of resolution copies of this value\n",
      "Training Landscapes shape: (497, 600)\n",
      "Training Labels shape: (497,)\n",
      "Testing Landscapes shape: (125, 600)\n",
      "Testing Labels shape: (125,)\n"
     ]
    },
    {
     "name": "stderr",
     "output_type": "stream",
     "text": [
      "\n",
      "/Users/ndivhuwonyase/anaconda3/envs/mscthesis/lib/python3.10/site-packages/gudhi/representations/vector_methods.py:208: RuntimeWarning: invalid value encountered in subtract\n",
      "  tent_functions = np.maximum(heights[None, :] - np.abs(x_values[:, None] - midpoints[None, :]), 0)\n"
     ]
    }
   ],
   "source": [
    "# Compute landscapes for training and testing sets for SARC\n",
    "sarc_train_landscapes = compute_simplicial_complex_and_landscapes(\n",
    "    sarc_train.values, SARC_pearson_corr_matrix, num_landscape, resolution\n",
    ")\n",
    "sarc_test_landscapes = compute_simplicial_complex_and_landscapes(\n",
    "    sarc_test.values, SARC_pearson_corr_matrix, num_landscape, resolution\n",
    ")\n",
    "\n",
    "# Compute landscapes for training and testing sets for ESCA\n",
    "esca_train_landscapes = compute_simplicial_complex_and_landscapes(\n",
    "    esca_train.values, ESCA_pearson_corr_matrix, num_landscape, resolution\n",
    ")\n",
    "esca_test_landscapes = compute_simplicial_complex_and_landscapes(\n",
    "    esca_test.values, ESCA_pearson_corr_matrix, num_landscape, resolution\n",
    ")\n",
    "\n",
    "# Compute landscapes for training and testing sets for PCPG\n",
    "pcpg_train_landscapes = compute_simplicial_complex_and_landscapes(\n",
    "    pcpg_train.values, PCPG_pearson_corr_matrix, num_landscape, resolution\n",
    ")\n",
    "pcpg_test_landscapes = compute_simplicial_complex_and_landscapes(\n",
    "    pcpg_test.values, PCPG_pearson_corr_matrix, num_landscape, resolution\n",
    ")\n",
    "\n",
    "# Combine training landscapes\n",
    "train_landscapes = np.vstack([sarc_train_landscapes, esca_train_landscapes, pcpg_train_landscapes])\n",
    "train_labels = np.concatenate([\n",
    "    np.full(sarc_train_landscapes.shape[0], 0),  # Label 0 for SARC\n",
    "    np.full(esca_train_landscapes.shape[0], 1),  # Label 1 for ESCA\n",
    "    np.full(pcpg_train_landscapes.shape[0], 2)   # Label 2 for PCPG\n",
    "])\n",
    "\n",
    "# Combine testing landscapes\n",
    "test_landscapes = np.vstack([sarc_test_landscapes, esca_test_landscapes, pcpg_test_landscapes])\n",
    "test_labels = np.concatenate([\n",
    "    np.full(sarc_test_landscapes.shape[0], 0),  # Label 0 for SARC\n",
    "    np.full(esca_test_landscapes.shape[0], 1),  # Label 1 for ESCA\n",
    "    np.full(pcpg_test_landscapes.shape[0], 2)   # Label 2 for PCPG\n",
    "])\n",
    "\n",
    "# Check shapes\n",
    "print(\"Training Landscapes shape:\", train_landscapes.shape)\n",
    "print(\"Training Labels shape:\", train_labels.shape)\n",
    "print(\"Testing Landscapes shape:\", test_landscapes.shape)\n",
    "print(\"Testing Labels shape:\", test_labels.shape)\n"
   ]
  },
  {
   "cell_type": "code",
   "execution_count": 10,
   "metadata": {},
   "outputs": [
    {
     "name": "stdout",
     "output_type": "stream",
     "text": [
      "Best parameters: {'max_depth': None, 'min_samples_leaf': 1, 'min_samples_split': 2, 'n_estimators': 50, 'oob_score': True}\n",
      "Training Accuracy: 1.0000\n",
      "Test Accuracy: 0.9920\n",
      "Mean Squared Error (MSE): 0.0080\n",
      "Log Loss: 0.1121\n",
      "\n",
      "Classification Report:\n",
      "               precision    recall  f1-score   support\n",
      "\n",
      "           0       1.00      1.00      1.00        52\n",
      "           1       0.97      1.00      0.99        37\n",
      "           2       1.00      0.97      0.99        36\n",
      "\n",
      "    accuracy                           0.99       125\n",
      "   macro avg       0.99      0.99      0.99       125\n",
      "weighted avg       0.99      0.99      0.99       125\n",
      "\n",
      "\n",
      "Confusion Matrix:\n",
      " [[52  0  0]\n",
      " [ 0 37  0]\n",
      " [ 0  1 35]]\n",
      "OOB Score: 0.9980\n"
     ]
    }
   ],
   "source": [
    "\n",
    "from sklearn.ensemble import RandomForestClassifier\n",
    "from sklearn.metrics import accuracy_score, classification_report, confusion_matrix, mean_squared_error, log_loss\n",
    "from sklearn.model_selection import GridSearchCV\n",
    "\n",
    "\n",
    "# Define parameter grid for hyperparameter tuning\n",
    "param_grid = {\n",
    "    'n_estimators': [50, 100, 200],         # Number of trees in the forest\n",
    "    'max_depth': [None, 10, 20],            # Maximum depth of the tree\n",
    "    'min_samples_split': [2, 5, 10],        # Minimum samples to split an internal node\n",
    "    'min_samples_leaf': [1, 2, 4], \n",
    "    'oob_score': [True]         # Minimum samples at a leaf node\n",
    "}\n",
    "\n",
    "# Perform Grid Search with Cross-Validation for Hyperparameter Tuning\n",
    "grid_search = GridSearchCV(\n",
    "    RandomForestClassifier(random_state=42),\n",
    "    param_grid,\n",
    "    cv=5,\n",
    "    scoring='accuracy'\n",
    ")\n",
    "grid_search.fit(train_landscapes, train_labels)\n",
    "\n",
    "# Get the best model from Grid Search\n",
    "best_rf_model = grid_search.best_estimator_\n",
    "print(\"Best parameters:\", grid_search.best_params_)\n",
    "\n",
    "# Train the best model on training data\n",
    "best_rf_model.fit(train_landscapes, train_labels)\n",
    "\n",
    "# Evaluate the best model\n",
    "train_predictions = best_rf_model.predict(train_landscapes)\n",
    "test_predictions = best_rf_model.predict(test_landscapes)\n",
    "test_probabilities = best_rf_model.predict_proba(test_landscapes)\n",
    "\n",
    "train_accuracy = accuracy_score(train_labels, train_predictions)\n",
    "test_accuracy = accuracy_score(test_labels, test_predictions)\n",
    "classification_rep = classification_report(test_labels, test_predictions)\n",
    "conf_matrix = confusion_matrix(test_labels, test_predictions)\n",
    "\n",
    "# Calculate metrics\n",
    "mse = mean_squared_error(test_labels, np.argmax(test_probabilities, axis=1))\n",
    "logloss = log_loss(test_labels, test_probabilities)\n",
    "\n",
    "# Display results\n",
    "print(f\"Training Accuracy: {train_accuracy:.4f}\")\n",
    "print(f\"Test Accuracy: {test_accuracy:.4f}\")\n",
    "print(f\"Mean Squared Error (MSE): {mse:.4f}\")\n",
    "print(f\"Log Loss: {logloss:.4f}\")\n",
    "print(\"\\nClassification Report:\\n\", classification_rep)\n",
    "print(\"\\nConfusion Matrix:\\n\", conf_matrix)\n",
    "\n",
    "# Display OOB score\n",
    "if hasattr(best_rf_model, 'oob_score_') and best_rf_model.oob_score_:\n",
    "    print(f\"OOB Score: {best_rf_model.oob_score_:.4f}\")"
   ]
  },
  {
   "cell_type": "code",
   "execution_count": 13,
   "metadata": {},
   "outputs": [
    {
     "data": {
      "image/png": "[encoded data removed]",
      "text/plain": [
       "<Figure size 1000x600 with 1 Axes>"
      ]
     },
     "metadata": {},
     "output_type": "display_data"
    }
   ],
   "source": [
    "# Train the best model and evaluate\n",
    "mse_values = []\n",
    "n_estimators_range = list(range(1, best_rf_model.n_estimators))\n",
    "for n in n_estimators_range:\n",
    "    temp_model = RandomForestClassifier(\n",
    "        n_estimators=n,\n",
    "        max_depth=best_rf_model.max_depth,\n",
    "        min_samples_split=best_rf_model.min_samples_split,\n",
    "        min_samples_leaf=best_rf_model.min_samples_leaf,\n",
    "        oob_score=True,\n",
    "        random_state=42\n",
    "    )\n",
    "    temp_model.fit(train_landscapes, train_labels)\n",
    "    predictions = temp_model.predict(test_landscapes)\n",
    "    probabilities = temp_model.predict_proba(test_landscapes)\n",
    "    mse = mean_squared_error(test_labels, np.argmax(probabilities, axis=1))\n",
    "    mse_values.append(mse)\n",
    "\n",
    "# Plotting MSE vs Number of Estimators\n",
    "plt.figure(figsize=(10, 6))\n",
    "plt.plot(n_estimators_range, mse_values, marker='o')\n",
    "plt.title('MSE vs Number of Estimators', fontsize=14)\n",
    "plt.xlabel('Number of Estimators', fontsize=12)\n",
    "plt.ylabel('Mean Squared Error (MSE)', fontsize=12)\n",
    "plt.grid(True)\n",
    "plt.show()"
   ]
  }
 ],
 "metadata": {
  "kernelspec": {
   "display_name": "mscthesis",
   "language": "python",
   "name": "python3"
  },
  "language_info": {
   "codemirror_mode": {
    "name": "ipython",
    "version": 3
   },
   "file_extension": ".py",
   "mimetype": "text/x-python",
   "name": "python",
   "nbconvert_exporter": "python",
   "pygments_lexer": "ipython3",
   "version": "3.10.14"
  }
 },
 "nbformat": 4,
 "nbformat_minor": 2
}
