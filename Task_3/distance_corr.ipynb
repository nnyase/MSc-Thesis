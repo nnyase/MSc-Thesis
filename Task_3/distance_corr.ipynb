{
 "cells": [
  {
   "cell_type": "code",
   "execution_count": 1,
   "metadata": {},
   "outputs": [],
   "source": [
    "import sys\n",
    "import os\n",
    "import warnings\n",
    "warnings.filterwarnings(\"ignore\")\n",
    "\n",
    "home_dir = \"../\"\n",
    "src_path = os.path.join(home_dir, \"src\")\n",
    "\n",
    "# Add the `src` folder to the Python path\n",
    "sys.path.append(src_path)\n",
    "\n",
    "from functions import (compute_distance_correlation_matrix,\n",
    " compute_simplicial_complex_and_landscapes, compute_wto_matrix, compute_pearson_correlation_matrix,\n",
    "  patient_correlation_measure)\n",
    "\n",
    "import pandas as pd\n",
    "import numpy as np\n",
    "import matplotlib.pyplot as plt\n",
    "from sklearn.model_selection import train_test_split\n",
    "import time"
   ]
  },
  {
   "cell_type": "code",
   "execution_count": 2,
   "metadata": {},
   "outputs": [],
   "source": [
    "# Load data from cancer stages\n",
    "expression_matrix = pd.read_csv(\"../data/treatment_response/fpkm_matrix.csv\", index_col=0)\n",
    "significant_genes = pd.read_csv(\"../data/treatment_response/significant_genes.csv\", index_col=0)\n",
    "\n",
    "# Separate phenotype labels\n",
    "phenotype = expression_matrix[\"phenotype\"]\n",
    "expression_matrix = expression_matrix.drop(columns=[\"phenotype\"])\n",
    "\n",
    "# Select significant genes\n",
    "significant_gene_names = significant_genes.index\n",
    "sig_exp_matrix = expression_matrix[significant_gene_names.intersection(expression_matrix.columns)]\n",
    "\n",
    "top_var_genes_data = sig_exp_matrix\n",
    "gene_dict = {i: col_name for i, col_name in enumerate(top_var_genes_data.columns)}\n",
    "top_var_genes_data[\"phenotype\"] = phenotype.values\n",
    "\n",
    "resistant_top_var_genes_data = top_var_genes_data[top_var_genes_data['phenotype'] == 'Resistance']\n",
    "sensitive_top_var_genes_data = top_var_genes_data[top_var_genes_data['phenotype'] == 'Sensitive']\n",
    "\n",
    "\n",
    "resistant_top_var_genes_data = resistant_top_var_genes_data.drop(columns=[\"phenotype\"])\n",
    "sensitive_top_var_genes_data = sensitive_top_var_genes_data.drop(columns=[\"phenotype\"])\n",
    "\n",
    "\n",
    "# Split the data into training and testing sets for resistent\n",
    "resistant_train, resistant_test = train_test_split(\n",
    "    resistant_top_var_genes_data, test_size=0.2, random_state=42\n",
    ")\n",
    "\n",
    "# Split the data into training and testing sets for sensitive\n",
    "sensitive_train, sensitive_test = train_test_split(\n",
    "    sensitive_top_var_genes_data, test_size=0.2, random_state=42\n",
    ")\n",
    "\n",
    "\n",
    "resistant_distance_corr_matrix = compute_distance_correlation_matrix(resistant_train.values)\n",
    "sensitive_distance_corr_matrix = compute_distance_correlation_matrix(sensitive_train.values)\n",
    "\n",
    "# Define number of landscapes and resolution\n",
    "num_landscape = 2\n",
    "resolution = 100\n",
    "\n"
   ]
  },
  {
   "cell_type": "code",
   "execution_count": 3,
   "metadata": {},
   "outputs": [
    {
     "name": "stdout",
     "output_type": "stream",
     "text": [
      "Computing the Simplicial Complex and persistence for patients\n"
     ]
    },
    {
     "name": "stderr",
     "output_type": "stream",
     "text": [
      "100%|██████████| 84/84 [00:01<00:00, 78.96it/s]\n"
     ]
    },
    {
     "name": "stdout",
     "output_type": "stream",
     "text": [
      "Empty list or empty diagrams: sample range is [-inf, -inf]\n",
      "First value and second value in range are the same: grid is made of resolution copies of this value\n",
      "Computing the Simplicial Complex and persistence for patients\n"
     ]
    },
    {
     "name": "stderr",
     "output_type": "stream",
     "text": [
      "100%|██████████| 22/22 [00:00<00:00, 85.72it/s]\n"
     ]
    },
    {
     "name": "stdout",
     "output_type": "stream",
     "text": [
      "Empty list or empty diagrams: sample range is [-inf, -inf]\n",
      "First value and second value in range are the same: grid is made of resolution copies of this value\n",
      "Computing the Simplicial Complex and persistence for patients\n"
     ]
    },
    {
     "name": "stderr",
     "output_type": "stream",
     "text": [
      "100%|██████████| 277/277 [00:03<00:00, 88.99it/s] \n"
     ]
    },
    {
     "name": "stdout",
     "output_type": "stream",
     "text": [
      "Empty list or empty diagrams: sample range is [-inf, -inf]\n",
      "First value and second value in range are the same: grid is made of resolution copies of this value\n",
      "Computing the Simplicial Complex and persistence for patients\n"
     ]
    },
    {
     "name": "stderr",
     "output_type": "stream",
     "text": [
      "100%|██████████| 70/70 [00:00<00:00, 105.01it/s]"
     ]
    },
    {
     "name": "stdout",
     "output_type": "stream",
     "text": [
      "Empty list or empty diagrams: sample range is [-inf, -inf]\n",
      "First value and second value in range are the same: grid is made of resolution copies of this value\n",
      "Training Landscapes shape: (361, 600)\n",
      "Training Labels shape: (361,)\n",
      "Testing Landscapes shape: (92, 600)\n",
      "Testing Labels shape: (92,)\n"
     ]
    },
    {
     "name": "stderr",
     "output_type": "stream",
     "text": [
      "\n"
     ]
    }
   ],
   "source": [
    "start_time = time.time()\n",
    "# Compute landscapes for training and testing sets for resistant\n",
    "resistant_train_landscapes = compute_simplicial_complex_and_landscapes(\n",
    "    resistant_train.values, resistant_distance_corr_matrix, num_landscape, resolution\n",
    ")\n",
    "resistant_test_landscapes = compute_simplicial_complex_and_landscapes(\n",
    "    resistant_test.values, resistant_distance_corr_matrix, num_landscape, resolution\n",
    ")\n",
    "\n",
    "# Compute landscapes for training and testing sets for sensitive\n",
    "sensitive_train_landscapes = compute_simplicial_complex_and_landscapes(\n",
    "    sensitive_train.values, sensitive_distance_corr_matrix, num_landscape, resolution\n",
    ")\n",
    "sensitive_test_landscapes = compute_simplicial_complex_and_landscapes(\n",
    "    sensitive_test.values, sensitive_distance_corr_matrix, num_landscape, resolution\n",
    ")\n",
    "\n",
    "\n",
    "# Combine training landscapes\n",
    "train_landscapes = np.vstack([resistant_train_landscapes, sensitive_train_landscapes])\n",
    "train_labels = np.concatenate([\n",
    "    np.full(resistant_train_landscapes.shape[0], 1),  # Label 1 for resistant\n",
    "    np.full(sensitive_train_landscapes.shape[0], 2) # Label 2 for sensitive\n",
    "])\n",
    "\n",
    "# Combine testing landscapes\n",
    "test_landscapes = np.vstack([resistant_test_landscapes, sensitive_test_landscapes])\n",
    "test_labels = np.concatenate([\n",
    "    np.full(resistant_test_landscapes.shape[0], 1),  # Label 1 for stage 1\n",
    "    np.full(sensitive_test_landscapes.shape[0], 2)\n",
    "])\n",
    "\n",
    "# Check shapes\n",
    "print(\"Training Landscapes shape:\", train_landscapes.shape)\n",
    "print(\"Training Labels shape:\", train_labels.shape)\n",
    "print(\"Testing Landscapes shape:\", test_landscapes.shape)\n",
    "print(\"Testing Labels shape:\", test_labels.shape)\n",
    "end_time = time.time()"
   ]
  },
  {
   "cell_type": "code",
   "execution_count": 4,
   "metadata": {},
   "outputs": [
    {
     "name": "stdout",
     "output_type": "stream",
     "text": [
      "Best parameters: {'max_depth': None, 'min_samples_leaf': 1, 'min_samples_split': 2, 'n_estimators': 50, 'oob_score': True}\n",
      "Training Accuracy: 1.0000\n",
      "Test Accuracy: 1.0000\n",
      "Mean Squared Error (MSE): 1.0000\n",
      "Log Loss: 0.0382\n",
      "\n",
      "Classification Report:\n",
      "               precision    recall  f1-score   support\n",
      "\n",
      "           1       1.00      1.00      1.00        22\n",
      "           2       1.00      1.00      1.00        70\n",
      "\n",
      "    accuracy                           1.00        92\n",
      "   macro avg       1.00      1.00      1.00        92\n",
      "weighted avg       1.00      1.00      1.00        92\n",
      "\n",
      "\n",
      "Confusion Matrix:\n",
      " [[22  0]\n",
      " [ 0 70]]\n",
      "Elapsed time: 0.09 seconds\n",
      "OOB Score: 0.9972\n"
     ]
    }
   ],
   "source": [
    "\n",
    "from sklearn.ensemble import RandomForestClassifier\n",
    "from sklearn.metrics import accuracy_score, classification_report, confusion_matrix, mean_squared_error, log_loss\n",
    "from sklearn.model_selection import GridSearchCV\n",
    "\n",
    "\n",
    "# Define parameter grid for hyperparameter tuning\n",
    "param_grid = {\n",
    "    'n_estimators': [50, 100, 200],         # Number of trees in the forest\n",
    "    'max_depth': [None, 10, 20],            # Maximum depth of the tree\n",
    "    'min_samples_split': [2, 5, 10],        # Minimum samples to split an internal node\n",
    "    'min_samples_leaf': [1, 2, 4], \n",
    "    'oob_score': [True]         # Minimum samples at a leaf node\n",
    "}\n",
    "\n",
    "# Perform Grid Search with Cross-Validation for Hyperparameter Tuning\n",
    "grid_search = GridSearchCV(\n",
    "    RandomForestClassifier(random_state=42),\n",
    "    param_grid,\n",
    "    cv=5,\n",
    "    scoring='accuracy'\n",
    ")\n",
    "grid_search.fit(train_landscapes, train_labels)\n",
    "\n",
    "# Get the best model from Grid Search\n",
    "best_rf_model = grid_search.best_estimator_\n",
    "print(\"Best parameters:\", grid_search.best_params_)\n",
    "\n",
    "# Train the best model on training data\n",
    "best_rf_model.fit(train_landscapes, train_labels)\n",
    "\n",
    "# Evaluate the best model\n",
    "train_predictions = best_rf_model.predict(train_landscapes)\n",
    "test_predictions = best_rf_model.predict(test_landscapes)\n",
    "test_probabilities = best_rf_model.predict_proba(test_landscapes)\n",
    "\n",
    "train_accuracy = accuracy_score(train_labels, train_predictions)\n",
    "test_accuracy = accuracy_score(test_labels, test_predictions)\n",
    "classification_rep = classification_report(test_labels, test_predictions)\n",
    "conf_matrix = confusion_matrix(test_labels, test_predictions)\n",
    "\n",
    "# Calculate metrics\n",
    "mse = mean_squared_error(test_labels, np.argmax(test_probabilities, axis=1))\n",
    "logloss = log_loss(test_labels, test_probabilities)\n",
    "\n",
    "# Display results\n",
    "print(f\"Training Accuracy: {train_accuracy:.4f}\")\n",
    "print(f\"Test Accuracy: {test_accuracy:.4f}\")\n",
    "print(f\"Mean Squared Error (MSE): {mse:.4f}\")\n",
    "print(f\"Log Loss: {logloss:.4f}\")\n",
    "print(\"\\nClassification Report:\\n\", classification_rep)\n",
    "print(\"\\nConfusion Matrix:\\n\", conf_matrix)\n",
    "elapsed_time = (end_time - start_time) / 60\n",
    "print(f\"Elapsed time: {elapsed_time:.2f} seconds\")\n",
    "\n",
    "# Display OOB score\n",
    "if hasattr(best_rf_model, 'oob_score_') and best_rf_model.oob_score_:\n",
    "    print(f\"OOB Score: {best_rf_model.oob_score_:.4f}\")"
   ]
  },
  {
   "cell_type": "code",
   "execution_count": 5,
   "metadata": {},
   "outputs": [
    {
     "name": "stdout",
     "output_type": "stream",
     "text": [
      "Top 10 CV Results:\n",
      "    param_n_estimators param_max_depth  param_min_samples_split  \\\n",
      "0                   50            None                        2   \n",
      "57                  50              20                        5   \n",
      "56                 200              20                        2   \n",
      "55                 100              20                        2   \n",
      "54                  50              20                        2   \n",
      "53                 200              10                       10   \n",
      "52                 100              10                       10   \n",
      "51                  50              10                       10   \n",
      "58                 100              20                        5   \n",
      "50                 200              10                        5   \n",
      "\n",
      "    param_min_samples_leaf  mean_test_score  std_test_score  \\\n",
      "0                        1         0.997222        0.005556   \n",
      "57                       1         0.997222        0.005556   \n",
      "56                       1         0.997222        0.005556   \n",
      "55                       1         0.997222        0.005556   \n",
      "54                       1         0.997222        0.005556   \n",
      "53                       4         0.997222        0.005556   \n",
      "52                       4         0.997222        0.005556   \n",
      "51                       4         0.997222        0.005556   \n",
      "58                       1         0.997222        0.005556   \n",
      "50                       4         0.997222        0.005556   \n",
      "\n",
      "    split0_test_score  split1_test_score  split2_test_score  \\\n",
      "0                 1.0                1.0           0.986111   \n",
      "57                1.0                1.0           0.986111   \n",
      "56                1.0                1.0           0.986111   \n",
      "55                1.0                1.0           0.986111   \n",
      "54                1.0                1.0           0.986111   \n",
      "53                1.0                1.0           0.986111   \n",
      "52                1.0                1.0           0.986111   \n",
      "51                1.0                1.0           0.986111   \n",
      "58                1.0                1.0           0.986111   \n",
      "50                1.0                1.0           0.986111   \n",
      "\n",
      "    split3_test_score  split4_test_score  rank_test_score  \n",
      "0                 1.0                1.0                1  \n",
      "57                1.0                1.0                1  \n",
      "56                1.0                1.0                1  \n",
      "55                1.0                1.0                1  \n",
      "54                1.0                1.0                1  \n",
      "53                1.0                1.0                1  \n",
      "52                1.0                1.0                1  \n",
      "51                1.0                1.0                1  \n",
      "58                1.0                1.0                1  \n",
      "50                1.0                1.0                1  \n"
     ]
    }
   ],
   "source": [
    "# Extract cross-validation results\n",
    "cv_results = grid_search.cv_results_\n",
    "\n",
    "# Convert results to a DataFrame for easier inspection\n",
    "cv_results_df = pd.DataFrame(cv_results)\n",
    "\n",
    "# Select and display important columns\n",
    "columns_to_display = [\n",
    "    'param_n_estimators',\n",
    "    'param_max_depth',\n",
    "    'param_min_samples_split',\n",
    "    'param_min_samples_leaf',\n",
    "    'mean_test_score',  # Average CV accuracy score for each parameter combination\n",
    "    'std_test_score',   # Standard deviation of the CV scores\n",
    "    'split0_test_score', \n",
    "    'split1_test_score', \n",
    "    'split2_test_score', \n",
    "    'split3_test_score', \n",
    "    'split4_test_score',\n",
    "     'rank_test_score'\n",
    "]\n",
    "# Filter the results and sort by rank_test_score\n",
    "cv_results_summary = cv_results_df[columns_to_display]\n",
    "cv_results_summary_sorted = cv_results_summary.sort_values(by='rank_test_score')\n",
    "\n",
    "# Save all results to a CSV file\n",
    "cv_results_summary_sorted.to_csv('results/dc_cv_results.csv', index=False)\n",
    "\n",
    "top_10_results = cv_results_summary_sorted.head(10)\n",
    "\n",
    "# Display the top 10 results in this notebook environment\n",
    "print(\"Top 10 CV Results:\")\n",
    "print(top_10_results)"
   ]
  }
 ],
 "metadata": {
  "kernelspec": {
   "display_name": "mscthesis",
   "language": "python",
   "name": "python3"
  },
  "language_info": {
   "codemirror_mode": {
    "name": "ipython",
    "version": 3
   },
   "file_extension": ".py",
   "mimetype": "text/x-python",
   "name": "python",
   "nbconvert_exporter": "python",
   "pygments_lexer": "ipython3",
   "version": "3.10.14"
  }
 },
 "nbformat": 4,
 "nbformat_minor": 2
}
